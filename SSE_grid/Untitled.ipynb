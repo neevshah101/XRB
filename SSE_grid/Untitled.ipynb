{
 "cells": [
  {
   "cell_type": "code",
   "execution_count": 1,
   "id": "498c4d08",
   "metadata": {},
   "outputs": [],
   "source": [
    "import numpy as np\n",
    "import pandas as pd\n",
    "import matplotlib.pyplot as plt\n",
    "import scienceplots\n",
    "plt.style.use(['science','grid','bright'])"
   ]
  },
  {
   "cell_type": "code",
   "execution_count": 2,
   "id": "1c4c4c7f",
   "metadata": {},
   "outputs": [
    {
     "data": {
      "text/plain": [
       "array([ 1,  3,  5,  7,  9, 10, 11, 13, 15, 17, 19, 20, 21, 23, 25, 27, 29,\n",
       "       30, 31, 33, 35, 37, 39, 40, 41, 43, 45, 47, 49, 50, 51, 53, 55, 57,\n",
       "       59, 61, 63, 65, 67, 69, 71, 73, 75, 77, 79, 81, 83, 85, 87, 89, 91,\n",
       "       93, 95, 97, 99])"
      ]
     },
     "execution_count": 2,
     "metadata": {},
     "output_type": "execute_result"
    }
   ],
   "source": [
    "i = np.append(np.arange(1,100,2),[10,20,30,40,50])\n",
    "i = np.sort(i)\n",
    "i"
   ]
  },
  {
   "cell_type": "code",
   "execution_count": 3,
   "id": "87de3de3",
   "metadata": {},
   "outputs": [
    {
     "name": "stderr",
     "output_type": "stream",
     "text": [
      "<>:6: SyntaxWarning: invalid escape sequence '\\s'\n",
      "<>:6: SyntaxWarning: invalid escape sequence '\\s'\n",
      "/tmp/ipykernel_32667/473500411.py:6: SyntaxWarning: invalid escape sequence '\\s'\n",
      "  data = pd.read_table(f'mass_{m}/LOGS1/history.data', skiprows = 5, sep = '\\s+', usecols = ['star_age','center_h1','star_mass'])\n"
     ]
    }
   ],
   "source": [
    "mass = []\n",
    "mass_TAMS = []\n",
    "age_TAMS = []\n",
    "threshold = 1e-2\n",
    "for m in i:\n",
    "    data = pd.read_table(f'mass_{m}/LOGS1/history.data', skiprows = 5, sep = '\\s+', usecols = ['star_age','center_h1','star_mass'])\n",
    "    condition = data['center_h1'] <= threshold\n",
    "    try:\n",
    "        mass_TAMS.append(data.loc[condition, 'star_mass'].values[0])\n",
    "        age_TAMS.append(data.loc[condition, 'star_age'].values[0])\n",
    "        mass.append(m)\n",
    "    except:\n",
    "        continue\n",
    "\n",
    "        \n",
    "    "
   ]
  },
  {
   "cell_type": "code",
   "execution_count": 10,
   "id": "5b3e65a3",
   "metadata": {},
   "outputs": [
    {
     "data": {
      "text/plain": [
       "<matplotlib.legend.Legend at 0x7f6989672db0>"
      ]
     },
     "execution_count": 10,
     "metadata": {},
     "output_type": "execute_result"
    },
    {
     "data": {
      "image/png": "[encoded data removed]",
      "text/plain": [
       "<Figure size 350x262.5 with 1 Axes>"
      ]
     },
     "metadata": {},
     "output_type": "display_data"
    }
   ],
   "source": [
    "#METISSE\n",
    "x = [9.057313740246366, 11.008436645938131, 15.167346615439458, 20.250722858161367, 25.172495742068364, 32.34958608943637, 40.04475779300511, 48.741632669228025, 58.09918010060601, 65.91317780330337, 74.0955361032994, 80.16992117875392, 86.93468530914565, 94.39458153443974, 98.89095734146632]\n",
    "y = [26.472023994589875, 19.9662363094589, 12.400052461097458, 8.788981831796576, 7.010916765952878, 5.594138320067913, 4.7617276386905445, 4.189165956314469, 3.7975107161632753, 3.5335363673486753, 3.342298545082578, 3.214307793596824, 3.1095298118108357, 2.9898921046704867, 2.9493851580862467]\n",
    "\n",
    "plt.plot(np.array(mass),np.array(age_TAMS)/1e6, label = 'MESA')\n",
    "plt.scatter(x,y, color = 'C1', label = 'METISSE')\n",
    "plt.xscale('log')\n",
    "plt.yscale('log')\n",
    "plt.xlim(5,80)\n",
    "plt.ylim(1,100)\n",
    "plt.xlabel('Mass (Msun)')\n",
    "plt.ylabel('TAMS age (Myr)')\n",
    "_ = plt.xticks([10,20,50], [10,20,50])\n",
    "_ = plt.yticks([3,5,10,20,30], [3,5,10,20,30])\n",
    "plt.legend()"
   ]
  },
  {
   "cell_type": "code",
   "execution_count": 52,
   "id": "bf5e2ff8",
   "metadata": {},
   "outputs": [
    {
     "data": {
      "text/plain": [
       "([np.int64(27),\n",
       "  np.int64(29),\n",
       "  np.int64(30),\n",
       "  np.int64(31),\n",
       "  np.int64(33),\n",
       "  np.int64(35),\n",
       "  np.int64(37),\n",
       "  np.int64(39),\n",
       "  np.int64(40),\n",
       "  np.int64(41)],\n",
       " [np.float64(6658933.00083446),\n",
       "  np.float64(6221809.203905831),\n",
       "  np.float64(6032835.711079671),\n",
       "  np.float64(5859496.384190012),\n",
       "  np.float64(5552587.812790899),\n",
       "  np.float64(5290507.776718026),\n",
       "  np.float64(5063784.9894304015),\n",
       "  np.float64(4864790.308773636),\n",
       "  np.float64(4775140.647529031),\n",
       "  np.float64(4689752.051165901)])"
      ]
     },
     "execution_count": 52,
     "metadata": {},
     "output_type": "execute_result"
    }
   ],
   "source": [
    "mass[15:25], age_TAMS[15:25]"
   ]
  },
  {
   "cell_type": "code",
   "execution_count": null,
   "id": "414cf28d",
   "metadata": {},
   "outputs": [],
   "source": []
  }
 ],
 "metadata": {
  "kernelspec": {
   "display_name": "XRB",
   "language": "python",
   "name": "xrb"
  },
  "language_info": {
   "codemirror_mode": {
    "name": "ipython",
    "version": 3
   },
   "file_extension": ".py",
   "mimetype": "text/x-python",
   "name": "python",
   "nbconvert_exporter": "python",
   "pygments_lexer": "ipython3",
   "version": "3.12.7"
  }
 },
 "nbformat": 4,
 "nbformat_minor": 5
}
